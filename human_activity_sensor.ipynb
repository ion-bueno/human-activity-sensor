{
 "cells": [
  {
   "cell_type": "markdown",
   "metadata": {
    "id": "gOdpP2c6X8Kq"
   },
   "source": [
    "The resolution of this notebook was done by:\n",
    "- Ion Bueno Ulacia, 100364530\n",
    "- Daniel Martín Cruz, 100384121"
   ]
  },
  {
   "cell_type": "markdown",
   "metadata": {
    "id": "7p7U94puYAfq"
   },
   "source": [
    "![uc3m](http://materplat.org/wp-content/uploads/LogoUC3M.jpg)\n"
   ]
  },
  {
   "cell_type": "markdown",
   "metadata": {
    "id": "doZGy991fgqT"
   },
   "source": [
    "#### Mount Google Drive"
   ]
  },
  {
   "cell_type": "code",
   "execution_count": null,
   "metadata": {
    "colab": {
     "base_uri": "https://localhost:8080/"
    },
    "executionInfo": {
     "elapsed": 1768,
     "status": "ok",
     "timestamp": 1652802676713,
     "user": {
      "displayName": "ION BUENO ULACIA",
      "userId": "18015455674797439275"
     },
     "user_tz": -120
    },
    "id": "F1pJwZ3jYDkY",
    "outputId": "c0982b78-dc27-4464-c1fa-5a4fec5d967c"
   },
   "outputs": [
    {
     "name": "stdout",
     "output_type": "stream",
     "text": [
      "Drive already mounted at /content/drive; to attempt to forcibly remount, call drive.mount(\"/content/drive\", force_remount=True).\n"
     ]
    }
   ],
   "source": [
    "# Load the Drive helper and mount\n",
    "from google.colab import drive\n",
    "\n",
    "# This will prompt for authorization.\n",
    "drive.mount('/content/drive')\n",
    "\n",
    "# Change to assignment directory\n",
    "import os\n",
    "os.chdir('/content/drive/My Drive/Colab Notebooks/Lab_Exercises_DASS/Lab_Exercise4')"
   ]
  },
  {
   "cell_type": "markdown",
   "metadata": {
    "id": "oIJV9wQfLaCc"
   },
   "source": [
    "#### Required Python libraries"
   ]
  },
  {
   "cell_type": "code",
   "execution_count": null,
   "metadata": {
    "colab": {
     "base_uri": "https://localhost:8080/"
    },
    "executionInfo": {
     "elapsed": 5244,
     "status": "ok",
     "timestamp": 1652802681948,
     "user": {
      "displayName": "ION BUENO ULACIA",
      "userId": "18015455674797439275"
     },
     "user_tz": -120
    },
    "id": "e6a1dmzOfcLw",
    "outputId": "3ed833de-d1cc-4741-f5c2-e25f96d8908e"
   },
   "outputs": [
    {
     "name": "stdout",
     "output_type": "stream",
     "text": [
      "Requirement already satisfied: scikit-optimize in /usr/local/lib/python3.7/dist-packages (0.9.0)\n",
      "Requirement already satisfied: joblib>=0.11 in /usr/local/lib/python3.7/dist-packages (from scikit-optimize) (1.1.0)\n",
      "Requirement already satisfied: pyaml>=16.9 in /usr/local/lib/python3.7/dist-packages (from scikit-optimize) (21.10.1)\n",
      "Requirement already satisfied: numpy>=1.13.3 in /usr/local/lib/python3.7/dist-packages (from scikit-optimize) (1.21.6)\n",
      "Requirement already satisfied: scipy>=0.19.1 in /usr/local/lib/python3.7/dist-packages (from scikit-optimize) (1.4.1)\n",
      "Requirement already satisfied: scikit-learn>=0.20.0 in /usr/local/lib/python3.7/dist-packages (from scikit-optimize) (1.0.2)\n",
      "Requirement already satisfied: PyYAML in /usr/local/lib/python3.7/dist-packages (from pyaml>=16.9->scikit-optimize) (3.13)\n",
      "Requirement already satisfied: threadpoolctl>=2.0.0 in /usr/local/lib/python3.7/dist-packages (from scikit-learn>=0.20.0->scikit-optimize) (3.1.0)\n"
     ]
    }
   ],
   "source": [
    "import numpy as np\n",
    "import pandas as pd\n",
    "from scipy import io\n",
    "from sklearn.pipeline import Pipeline\n",
    "from sklearn.preprocessing import StandardScaler\n",
    "!pip install scikit-optimize\n",
    "from skopt import BayesSearchCV\n",
    "from skopt.space import Real, Categorical, Integer \n",
    "from sklearn.metrics import accuracy_score, confusion_matrix, ConfusionMatrixDisplay\n",
    "import matplotlib.pyplot as plt\n",
    "import warnings\n",
    "warnings.filterwarnings('ignore')"
   ]
  },
  {
   "cell_type": "markdown",
   "metadata": {
    "id": "6EYW05BtKn0w"
   },
   "source": [
    "# Lab Exercise 4\n",
    "---"
   ]
  },
  {
   "cell_type": "markdown",
   "metadata": {
    "id": "iLOMXsesKTAS"
   },
   "source": [
    "# Implementation of a system for human activity detection using smartphone sensor data\n",
    "\n",
    "### Data analytics for the smart society\n",
    "\n",
    "### Master in Big Data Analytics\n",
    "\n",
    "### Course 2021/2022\n",
    "\n",
    "1. Objective\n",
    "\n",
    "2. Database\n",
    "\n",
    "3. Data preprocessing\n",
    "\n",
    "> 3.1 Segmentation\n",
    "\n",
    "4. Models\n",
    "\n",
    "5. Evaluation\n",
    "\n",
    "6. Conclusion"
   ]
  },
  {
   "cell_type": "markdown",
   "metadata": {
    "id": "YNE8du0CQeh_"
   },
   "source": [
    "## 1 - Objective\n",
    "\n",
    "The objective is to implement a system for human activity detection using monitorized data by means of smartphone sensors. First, we have to preprocess the signals applying recommended techniques from the paper *Activity Recognition Using Inertial Sensing for Healthcare, Wellbeing and Sports Applications: A Survey*. Then, using machine learning algorithms with hyper-parameter tuning, we make the predictions. "
   ]
  },
  {
   "cell_type": "markdown",
   "metadata": {
    "id": "YV3DKh97O_hH"
   },
   "source": [
    "## 2 - Database\n",
    "\n",
    "The data is composed by sequences of sensor data corresponding to different persons performing a set of activities in seminaturalistic conditions. Each signal has 6 dimensions, since they are captured with an accelerometr and a gyroscope, and the positon is stored in the three axes (x, y and z). The sampling frequency is 25 Hz and there are 5 types of human activity:\n",
    "\n",
    "1. Laying.\n",
    "2. Sitting.\n",
    "3. Climbing Stairs.\n",
    "4. Standing.\n",
    "5. Waking.\n",
    "\n",
    "The data is stored in `AR_database.mat`. There are 8 sequences of training data with dimension 6 x $N_i$, where $N_i$ is the number of observations, with the corresponding labels between 1 and 5. Mention that $N_i$ could differ between the different sequences, $i$, (individuals). As test data, we have 3 sequences with the same number of dimensions (6) and the corresponding duration ($N_i$) per sequence, as well as the corresponding labels between 1 and 5.\n",
    "\n",
    "First step is loading the data."
   ]
  },
  {
   "cell_type": "code",
   "execution_count": null,
   "metadata": {
    "colab": {
     "base_uri": "https://localhost:8080/"
    },
    "executionInfo": {
     "elapsed": 27,
     "status": "ok",
     "timestamp": 1652802681949,
     "user": {
      "displayName": "ION BUENO ULACIA",
      "userId": "18015455674797439275"
     },
     "user_tz": -120
    },
    "id": "_tTe1s2zSCMR",
    "outputId": "90474089-e1ad-4832-e89c-1592278de60b"
   },
   "outputs": [
    {
     "data": {
      "text/plain": [
       "dict_keys(['__header__', '__version__', '__globals__', 'data_test', 'data_train', 'label_test', 'label_train'])"
      ]
     },
     "execution_count": 3,
     "metadata": {},
     "output_type": "execute_result"
    }
   ],
   "source": [
    "mat = io.loadmat('AR_database.mat')\n",
    "mat.keys()"
   ]
  },
  {
   "cell_type": "markdown",
   "metadata": {
    "id": "j19SAZIkIGEs"
   },
   "source": [
    "Then, we store the training and test data as well as the corresponding labels in different variables."
   ]
  },
  {
   "cell_type": "code",
   "execution_count": null,
   "metadata": {
    "id": "FtfYHjTdYRZk"
   },
   "outputs": [],
   "source": [
    "data_train = mat['data_train']     # training data\n",
    "data_test = mat['data_test']       # test data\n",
    "label_train = mat['label_train']   # training labels\n",
    "label_test = mat['label_test']     # test labels"
   ]
  },
  {
   "cell_type": "markdown",
   "metadata": {
    "id": "YFSgBF4Ge3q6"
   },
   "source": [
    "## 3 - Data preprocessing\n",
    "\n",
    "Firstly, we have to concatenate the 8 sequences of training data, having as result the matrix `X_train` with the sum of all the $N_i$ as rows and the 6 spatial dimensions as columns. Respect the test data, we only store each sequence in the desired format, ($N_i$ x 6), in the dictionary `X_test`. The reason to separate them is to calculate the accuracy per sequence or individual, as well as the mean of the three.\n",
    "\n",
    "The labels are also stored in the vector `y_train` and the dictionary `y_test`."
   ]
  },
  {
   "cell_type": "code",
   "execution_count": null,
   "metadata": {
    "colab": {
     "base_uri": "https://localhost:8080/"
    },
    "executionInfo": {
     "elapsed": 23,
     "status": "ok",
     "timestamp": 1652802681952,
     "user": {
      "displayName": "ION BUENO ULACIA",
      "userId": "18015455674797439275"
     },
     "user_tz": -120
    },
    "id": "87lU-5aSe_5j",
    "outputId": "02540be0-61f3-4305-d4d0-191257277384"
   },
   "outputs": [
    {
     "name": "stdout",
     "output_type": "stream",
     "text": [
      "Dimensions X_train: (235297, 6)\n",
      "Dimensions y_train: (235297, 1) \n",
      "\n",
      "Dimensions X_test1: (26782, 6)\n",
      "Dimensions y_test1: (26782, 1) \n",
      "\n",
      "Dimensions X_test2: (28576, 6)\n",
      "Dimensions y_test2: (28576, 1) \n",
      "\n",
      "Dimensions X_test3: (23252, 6)\n",
      "Dimensions y_test3: (23252, 1) \n",
      "\n"
     ]
    }
   ],
   "source": [
    "######################\n",
    "# Training sequences\n",
    "######################\n",
    "\n",
    "X_train = [] # new training data\n",
    "y_train = [] # new training labels\n",
    "\n",
    "# Iterate through the train sequences\n",
    "for i in range(data_train.shape[0]):\n",
    "    # Select sequence\n",
    "    arr = data_train[i, 0].T\n",
    "    labels = label_train[i,0].T\n",
    "    # Concatenation\n",
    "    if len(X_train):\n",
    "        X_train = np.vstack((X_train, arr))\n",
    "        y_train = np.vstack((y_train, labels))\n",
    "    else:\n",
    "        X_train = arr\n",
    "        y_train = labels\n",
    "# Print results\n",
    "print(f'Dimensions X_train: {X_train.shape}')\n",
    "print(f'Dimensions y_train: {y_train.shape}', '\\n')\n",
    "\n",
    "\n",
    "######################\n",
    "# Test sequences\n",
    "######################\n",
    "\n",
    "X_test = {} # new test data\n",
    "y_test = {} # new test labels\n",
    "\n",
    "# Iterate through the test sequences\n",
    "for i in range(data_test.shape[0]):\n",
    "    # Select sequence\n",
    "    X_test[i] = data_test[i, 0].T\n",
    "    y_test[i] = label_test[i, 0].T\n",
    "    # Print results\n",
    "    print(f'Dimensions X_test{i+1}: {X_test[i].shape}')\n",
    "    print(f'Dimensions y_test{i+1}: {y_test[i].shape}', '\\n')"
   ]
  },
  {
   "cell_type": "markdown",
   "metadata": {
    "id": "oY1Z-5OBNZ22"
   },
   "source": [
    "The dimensions of each set are printed. Notice the number of rows differ while the number of columns is constant, as desired.\n",
    "\n",
    "Nevertheless, using all samples do not make much sense since the information could be redundant. In such a short time, $\\frac{1}{25Hz}$ seconds, the activity does not change a lot. For this reason, we are going to use sliding windows calculating some statistics in a few amount of samples and use them as our new variables."
   ]
  },
  {
   "cell_type": "markdown",
   "metadata": {
    "id": "LNDhc8ved0o1"
   },
   "source": [
    "### 3.1 - Sliding Windows\n",
    "\n",
    "The idea is iterate through the six signals and calculate the statistics using a window of samples. The implementation allows overlapping, trying to model the signals more smoothly. The sliding window size as well as the overlapping percentage (from the windows size) are parameters which can be tuned. The calculated statistics are:\n",
    "\n",
    "* Mean.\n",
    "* Standard deviation.\n",
    "* Module.\n",
    "\n",
    "We tried to include others as the median, as well as different combinations of them, but the ones which provide the best results are these three. Consequently, we have three statistics per signal, in total **18 variables** represented as columns. The number of rows are going to depend on the selected window size as well as the overlapping percentage.\n",
    "\n",
    "The corresponding labels of the new samples are calculated as the **mode** of each window."
   ]
  },
  {
   "cell_type": "code",
   "execution_count": null,
   "metadata": {
    "id": "mE1SoAAD1ovB"
   },
   "outputs": [],
   "source": [
    "from scipy import stats\n",
    "\n",
    "def segmentation(X, y, window, overlap):\n",
    "    X_seg = [] # new data\n",
    "    y_seg = [] # new labels\n",
    "\n",
    "    beg = 0                                          # beginning sliding window\n",
    "    end = beg+window                                 # end sliding window\n",
    "    while True:\n",
    "\n",
    "        # Data\n",
    "        X_part = X[beg:end, :]                       # sliding window selection\n",
    "        mu = np.mean(X_part, axis=0)                 # mean\n",
    "        std = np.std(X_part, axis=0)                 # standard deviation\n",
    "        module = np.linalg.norm(X_part, axis=0)      # module\n",
    "        X_stats = np.concatenate((mu, std, module))  # concatenation of the statistics\n",
    "        # Data concatenation\n",
    "        if len(X_seg):\n",
    "            X_seg = np.vstack((X_seg, X_stats))\n",
    "        else:\n",
    "            X_seg = X_stats\n",
    "\n",
    "        # Labels\n",
    "        y_part = y[beg:end]                          # sliding window selection\n",
    "        y_stat = stats.mode(y_part)[0][0][0]         # mode\n",
    "        y_seg = np.append(y_seg, y_stat)             # append new label\n",
    "\n",
    "        # STOP criteria\n",
    "        if end == (X.shape[0]-1):\n",
    "            break\n",
    "\n",
    "        # New beginning sliding window\n",
    "        beg = end - round(window * overlap)\n",
    "        # New end sliding window\n",
    "        if end+window < X.shape[0]:\n",
    "            end = beg + window\n",
    "        else:\n",
    "            end = X.shape[0]-1\n",
    "    # Print results\n",
    "    print(f'Dimensions X_seg: {X_seg.shape}')\n",
    "    print(f'Dimensions y_seg: {y_seg.shape}')\n",
    "    return X_seg, y_seg"
   ]
  },
  {
   "cell_type": "markdown",
   "metadata": {
    "id": "gU_bGq6xbKC2"
   },
   "source": [
    "After several executions, the best results were provided by selecting `window=100` and `overlap=0.5`, meaning that the 50% of the samples are also used in the next iteration of the sliding window."
   ]
  },
  {
   "cell_type": "code",
   "execution_count": null,
   "metadata": {
    "colab": {
     "base_uri": "https://localhost:8080/"
    },
    "executionInfo": {
     "elapsed": 2687,
     "status": "ok",
     "timestamp": 1652802685108,
     "user": {
      "displayName": "ION BUENO ULACIA",
      "userId": "18015455674797439275"
     },
     "user_tz": -120
    },
    "id": "GS6zgEhljKwU",
    "outputId": "26553cbc-fc57-4c65-8da0-56094a0724ce"
   },
   "outputs": [
    {
     "name": "stdout",
     "output_type": "stream",
     "text": [
      "Training set\n",
      "Dimensions X_seg: (4704, 18)\n",
      "Dimensions y_seg: (4704,)\n",
      "\n",
      "Test set 1\n",
      "Dimensions X_seg: (534, 18)\n",
      "Dimensions y_seg: (534,)\n",
      "\n",
      "Test set 2\n",
      "Dimensions X_seg: (570, 18)\n",
      "Dimensions y_seg: (570,)\n",
      "\n",
      "Test set 3\n",
      "Dimensions X_seg: (464, 18)\n",
      "Dimensions y_seg: (464,)\n",
      "\n"
     ]
    }
   ],
   "source": [
    "window = 100    # sliding window size\n",
    "overlap = 0.5   # percentage of overlapping respect size sliding window\n",
    "\n",
    "######################\n",
    "# Training sequences\n",
    "######################\n",
    "\n",
    "print('Training set')\n",
    "X_train_seg, y_train_seg = segmentation(X_train, y_train, window=window, overlap=overlap)\n",
    "print()\n",
    "\n",
    "\n",
    "######################\n",
    "# Test sequences\n",
    "######################\n",
    "\n",
    "X_test_seg = {}\n",
    "y_test_seg = {}\n",
    "for i in X_test.keys():\n",
    "    print(f'Test set {i+1}')\n",
    "    X_test_seg[i], y_test_seg[i] = segmentation(X_test[i], y_test[i], window=window, overlap=overlap)\n",
    "    print()"
   ]
  },
  {
   "cell_type": "markdown",
   "metadata": {
    "id": "Fl-h5E2Mb3Nm"
   },
   "source": [
    "As expected, there are 18 variables in each set and a different number of rows. The amount of samples is reduced as compared to before."
   ]
  },
  {
   "cell_type": "markdown",
   "metadata": {
    "id": "Mjx9c2nyGj9i"
   },
   "source": [
    "## 4 - Models\n",
    "\n",
    "Once we have the data processed, we employ different machine learning models to make the predictions. We also perform hyper-parameter turning using bayesian optimization with the *sklearn* module `skopt.BayesSearchCV` which speeds up the search. The implemented models are:\n",
    "\n",
    "* Support Vector Machine (SVM).\n",
    "* Decision Tree.\n",
    "* Random Forest.\n",
    "* Extra Trees.\n",
    "* Histogram Gradient Boosting.\n",
    "\n",
    "The tuned models are going to be stored in the dictionary `models`. We fix the `seed` in order to have reproducible results. \n",
    "\n",
    "> Note the results could differ depending on the operating system. These ones are from an execution using Kubuntu 20.04."
   ]
  },
  {
   "cell_type": "code",
   "execution_count": null,
   "metadata": {
    "id": "GpHB7D3QRixp"
   },
   "outputs": [],
   "source": [
    "models = {}\n",
    "seed = 41"
   ]
  },
  {
   "cell_type": "markdown",
   "metadata": {
    "id": "mRWGT68yeVRv"
   },
   "source": [
    "The steps are the same in the 5 models. We define a pipeline where all cases are just the model excluding the SVM, in which a scaler is applied before. Then the suggested hyper-parameters are defined in a search space where the bayesian optimization is going to take place. We select 5 folds for the cross validation. The best model is stored in the dictionary `models` and their selected hyper-parameter are printed."
   ]
  },
  {
   "cell_type": "code",
   "execution_count": null,
   "metadata": {
    "colab": {
     "base_uri": "https://localhost:8080/"
    },
    "executionInfo": {
     "elapsed": 159070,
     "status": "ok",
     "timestamp": 1652802844174,
     "user": {
      "displayName": "ION BUENO ULACIA",
      "userId": "18015455674797439275"
     },
     "user_tz": -120
    },
    "id": "ed0VUqOrHVXY",
    "outputId": "652cd1d3-776b-4700-8529-eda8559f5927"
   },
   "outputs": [
    {
     "name": "stdout",
     "output_type": "stream",
     "text": [
      "Best hyper-parameters:\n",
      " OrderedDict([('svm__C', 41.25044566853082), ('svm__gamma', 0.0550163728514459), ('svm__kernel', 'rbf')])\n"
     ]
    }
   ],
   "source": [
    "#########\n",
    "# SVM\n",
    "#########\n",
    "\n",
    "from sklearn.svm import SVC\n",
    "\n",
    "# pipeline\n",
    "pipe = Pipeline(steps=[\n",
    "    (\"scaler\", StandardScaler()),\n",
    "    (\"svm\", SVC(random_state=seed))\n",
    "])\n",
    "\n",
    "# search space\n",
    "param_grid = {\n",
    "    'svm__kernel': Categorical(['rbf', 'linear']),         \n",
    "    'svm__gamma': Real(1e-3, 1e-1),  \n",
    "    'svm__C': Real(10, 100),    \n",
    "}\n",
    " \n",
    "# Bayes search\n",
    "clf = BayesSearchCV(\n",
    "    pipe,\n",
    "    search_spaces=param_grid,\n",
    "    cv=5,\n",
    "    n_jobs=-1,\n",
    "    random_state=seed,\n",
    ")\n",
    "\n",
    "# fitting model\n",
    "clf.fit(X_train_seg, y_train_seg)\n",
    "print('Best hyper-parameters:\\n', clf.best_params_)\n",
    "models['SVM'] = clf.best_estimator_"
   ]
  },
  {
   "cell_type": "code",
   "execution_count": null,
   "metadata": {
    "colab": {
     "base_uri": "https://localhost:8080/"
    },
    "executionInfo": {
     "elapsed": 85791,
     "status": "ok",
     "timestamp": 1652802929930,
     "user": {
      "displayName": "ION BUENO ULACIA",
      "userId": "18015455674797439275"
     },
     "user_tz": -120
    },
    "id": "J9ycA2P9SSGj",
    "outputId": "ef803a4f-b48e-4c94-c44c-d643387e0966"
   },
   "outputs": [
    {
     "name": "stdout",
     "output_type": "stream",
     "text": [
      "Best hyper-parameters:\n",
      " OrderedDict([('dt__max_depth', 5), ('dt__min_samples_leaf', 11), ('dt__min_samples_split', 10)])\n"
     ]
    }
   ],
   "source": [
    "###################\n",
    "# Decision Tree\n",
    "###################\n",
    "\n",
    "from sklearn.tree import DecisionTreeClassifier\n",
    "\n",
    "# pipeline\n",
    "pipe = Pipeline(steps=[\n",
    "    (\"dt\", DecisionTreeClassifier(random_state=seed))\n",
    "])\n",
    "\n",
    "# search space\n",
    "param_grid = {\n",
    "    'dt__max_depth': Integer(4, 16),          \n",
    "    'dt__min_samples_split': Integer(2, 10),  \n",
    "    'dt__min_samples_leaf': Integer(5, 15),   \n",
    "}\n",
    "\n",
    "# Bayes search\n",
    "clf = BayesSearchCV(\n",
    "    pipe,\n",
    "    search_spaces=param_grid,\n",
    "    cv=5,\n",
    "    n_jobs=-1,\n",
    "    random_state=seed,\n",
    ")\n",
    "\n",
    "# fitting model\n",
    "clf.fit(X_train_seg, y_train_seg)\n",
    "print('Best hyper-parameters:\\n', clf.best_params_)\n",
    "models['DecisionTree'] = clf.best_estimator_"
   ]
  },
  {
   "cell_type": "code",
   "execution_count": null,
   "metadata": {
    "colab": {
     "base_uri": "https://localhost:8080/"
    },
    "executionInfo": {
     "elapsed": 290427,
     "status": "ok",
     "timestamp": 1652803220343,
     "user": {
      "displayName": "ION BUENO ULACIA",
      "userId": "18015455674797439275"
     },
     "user_tz": -120
    },
    "id": "gA294U-uPFfz",
    "outputId": "1941ea3f-1392-4960-de40-a9f6bf4500b0"
   },
   "outputs": [
    {
     "name": "stdout",
     "output_type": "stream",
     "text": [
      "Best hyper-parameters:\n",
      " OrderedDict([('rf__max_depth', 20), ('rf__min_samples_leaf', 1), ('rf__min_samples_split', 6)])\n"
     ]
    }
   ],
   "source": [
    "###################\n",
    "# Random Forest\n",
    "###################\n",
    "\n",
    "from sklearn.ensemble import RandomForestClassifier\n",
    "\n",
    "# pipeline\n",
    "pipe = Pipeline(steps=[\n",
    "    (\"rf\", RandomForestClassifier(random_state=seed))\n",
    "])\n",
    "\n",
    "# search space\n",
    "param_grid = {\n",
    "    'rf__max_depth': Integer(20,30),           \n",
    "    'rf__min_samples_split': Integer(2,10),   \n",
    "    'rf__min_samples_leaf': Integer(1,10),    \n",
    "}\n",
    "\n",
    "# Bayes search\n",
    "clf = BayesSearchCV(\n",
    "    pipe,\n",
    "    search_spaces=param_grid,\n",
    "    cv=5,\n",
    "    n_jobs=-1,\n",
    "    random_state=seed,\n",
    ")\n",
    "\n",
    "# fitting model\n",
    "clf.fit(X_train_seg, y_train_seg)\n",
    "print('Best hyper-parameters:\\n', clf.best_params_)\n",
    "models['RandomForest'] = clf.best_estimator_"
   ]
  },
  {
   "cell_type": "code",
   "execution_count": null,
   "metadata": {
    "colab": {
     "base_uri": "https://localhost:8080/"
    },
    "executionInfo": {
     "elapsed": 128344,
     "status": "ok",
     "timestamp": 1652803348683,
     "user": {
      "displayName": "ION BUENO ULACIA",
      "userId": "18015455674797439275"
     },
     "user_tz": -120
    },
    "id": "MjBriWvAJg62",
    "outputId": "caf09ab8-d527-4a6c-dd10-1a47faeeb075"
   },
   "outputs": [
    {
     "name": "stdout",
     "output_type": "stream",
     "text": [
      "Best hyper-parameters:\n",
      " OrderedDict([('et__max_depth', 30), ('et__min_samples_leaf', 2), ('et__min_samples_split', 20)])\n"
     ]
    }
   ],
   "source": [
    "#################\n",
    "# Extra Trees\n",
    "#################\n",
    "\n",
    "from sklearn.ensemble import ExtraTreesClassifier\n",
    "\n",
    "# pipeline\n",
    "pipe = Pipeline(steps=[\n",
    "    (\"et\", ExtraTreesClassifier(random_state=seed))\n",
    "])\n",
    "\n",
    "\n",
    "# search space\n",
    "param_grid = {\n",
    "    'et__max_depth': Integer(30, 40),           \n",
    "    'et__min_samples_split': Integer(2,20),   \n",
    "    'et__min_samples_leaf': Integer(1,10),    \n",
    "}\n",
    "\n",
    "# Bayes search\n",
    "clf = BayesSearchCV(\n",
    "    pipe,\n",
    "    search_spaces=param_grid,\n",
    "    cv=5,\n",
    "    n_jobs=-1,\n",
    "    random_state=seed,\n",
    ")\n",
    "\n",
    "# fitting model\n",
    "clf.fit(X_train_seg, y_train_seg)\n",
    "print('Best hyper-parameters:\\n', clf.best_params_)\n",
    "models['ExtraTrees'] = clf.best_estimator_"
   ]
  },
  {
   "cell_type": "code",
   "execution_count": null,
   "metadata": {
    "colab": {
     "base_uri": "https://localhost:8080/"
    },
    "executionInfo": {
     "elapsed": 526331,
     "status": "ok",
     "timestamp": 1652803874995,
     "user": {
      "displayName": "ION BUENO ULACIA",
      "userId": "18015455674797439275"
     },
     "user_tz": -120
    },
    "id": "w7qb8fHuKisa",
    "outputId": "df372924-6f57-425e-8735-b70744e7a7ed"
   },
   "outputs": [
    {
     "name": "stdout",
     "output_type": "stream",
     "text": [
      "Best hyper-parameters:\n",
      " OrderedDict([('hgb__learning_rate', 0.3041665083767272), ('hgb__max_iter', 200), ('hgb__max_leaf_nodes', 10)])\n"
     ]
    }
   ],
   "source": [
    "################################\n",
    "# Histogram Gradient Boosting\n",
    "################################\n",
    "\n",
    "from sklearn.ensemble import HistGradientBoostingClassifier\n",
    "\n",
    "# pipeline\n",
    "pipe = Pipeline(steps=[\n",
    "    (\"hgb\", HistGradientBoostingClassifier(random_state=seed))\n",
    "])\n",
    "\n",
    "\n",
    "# search space\n",
    "param_grid = {\n",
    "    'hgb__learning_rate': Real(0.01, 0.9),           \n",
    "    'hgb__max_iter': Integer(200, 500),   \n",
    "    'hgb__max_leaf_nodes': Integer(10, 30)    \n",
    "}\n",
    "\n",
    "# Bayes search\n",
    "clf = BayesSearchCV(\n",
    "    pipe,\n",
    "    search_spaces=param_grid,\n",
    "    cv=5,\n",
    "    n_jobs=-1,\n",
    "    random_state=seed,\n",
    ")\n",
    "\n",
    "# fitting model\n",
    "clf.fit(X_train_seg, y_train_seg)\n",
    "print('Best hyper-parameters:\\n', clf.best_params_)\n",
    "models['HistogramGradientBoosting'] = clf.best_estimator_"
   ]
  },
  {
   "cell_type": "markdown",
   "metadata": {
    "id": "5Mv2436FIdWh"
   },
   "source": [
    "## 5 - Evaluation\n",
    "\n",
    "It is important to notice that the evaluation of the model is not straightforward due to the previous preprocessing and the nature of the data. As we are applying a sliding window in the 6 signals, the total amount of samples is reduced and consequently the labels. Remember the label was the mode of the corresponding window. \n",
    "\n",
    "As we are interested in the evaluation of the whole samples, we have to perform a post-processing step. It consists of expanding the selected labels to recover the original size. Mention that the number of replicated labels are going to depend on the window size as well as the overlapping percentage. It is an iterative process where we have to be careful at the end of the vector.\n",
    "\n",
    "In a real application this step may not be useful, since the usual utility is predicting the activity after certain time, not in samples obtained with such short time. However, in order to have an objective result for this data, it is required to have as predictions as test samples.\n",
    "\n",
    "This one corresponds with the function `expand_predictions`, being `m` the original number of samples and `y_seg` the predictions with the reduced size."
   ]
  },
  {
   "cell_type": "code",
   "execution_count": null,
   "metadata": {
    "id": "BPe5xNKHH-Ai"
   },
   "outputs": [],
   "source": [
    "def expand_predictions(m, y_seg):\n",
    "    n = y_seg.shape[0]  # original samples\n",
    "    steps = int(m/n)    # steps to fill\n",
    "    preds = []          # expanded predictions\n",
    "    i = 0\n",
    "    while True:\n",
    "        preds = np.append(preds, np.repeat(y_seg[i], steps))                # fill whole space\n",
    "        i += 1\n",
    "        # end of sequence\n",
    "        if i==n:\n",
    "            preds = np.append(preds, np.repeat(y_seg[i-1], m - n*steps))    # fill end of sequence\n",
    "            break\n",
    "    return preds"
   ]
  },
  {
   "cell_type": "markdown",
   "metadata": {
    "id": "zU4xLUwkj2D4"
   },
   "source": [
    "We calculate the accuracy per test set as well as the mean using all the implemented models. The accuracy is obtained using the function `accuracy_score` from *sklearn*, using as input the expanded labels. The results are stored in the `df_results` data frame."
   ]
  },
  {
   "cell_type": "code",
   "execution_count": null,
   "metadata": {
    "colab": {
     "base_uri": "https://localhost:8080/",
     "height": 206
    },
    "executionInfo": {
     "elapsed": 596,
     "status": "ok",
     "timestamp": 1652803875586,
     "user": {
      "displayName": "ION BUENO ULACIA",
      "userId": "18015455674797439275"
     },
     "user_tz": -120
    },
    "id": "OhJEFJBEXedI",
    "outputId": "c06659ec-e927-4f36-801f-58ea99ecf3d4"
   },
   "outputs": [
    {
     "data": {
      "text/html": [
       "\n",
       "  <div id=\"df-b435095d-fc6c-42cd-8d09-25b417139190\">\n",
       "    <div class=\"colab-df-container\">\n",
       "      <div>\n",
       "<style scoped>\n",
       "    .dataframe tbody tr th:only-of-type {\n",
       "        vertical-align: middle;\n",
       "    }\n",
       "\n",
       "    .dataframe tbody tr th {\n",
       "        vertical-align: top;\n",
       "    }\n",
       "\n",
       "    .dataframe thead th {\n",
       "        text-align: right;\n",
       "    }\n",
       "</style>\n",
       "<table border=\"1\" class=\"dataframe\">\n",
       "  <thead>\n",
       "    <tr style=\"text-align: right;\">\n",
       "      <th></th>\n",
       "      <th>SVM</th>\n",
       "      <th>DecisionTree</th>\n",
       "      <th>RandomForest</th>\n",
       "      <th>ExtraTrees</th>\n",
       "      <th>HistogramGradientBoosting</th>\n",
       "    </tr>\n",
       "    <tr>\n",
       "      <th>Accuracy</th>\n",
       "      <th></th>\n",
       "      <th></th>\n",
       "      <th></th>\n",
       "      <th></th>\n",
       "      <th></th>\n",
       "    </tr>\n",
       "  </thead>\n",
       "  <tbody>\n",
       "    <tr>\n",
       "      <th>Test set 1</th>\n",
       "      <td>0.800612</td>\n",
       "      <td>0.667202</td>\n",
       "      <td>0.797439</td>\n",
       "      <td>0.843962</td>\n",
       "      <td>0.786498</td>\n",
       "    </tr>\n",
       "    <tr>\n",
       "      <th>Test set 2</th>\n",
       "      <td>0.892287</td>\n",
       "      <td>0.843855</td>\n",
       "      <td>0.895157</td>\n",
       "      <td>0.903905</td>\n",
       "      <td>0.846445</td>\n",
       "    </tr>\n",
       "    <tr>\n",
       "      <th>Test set 3</th>\n",
       "      <td>0.911879</td>\n",
       "      <td>0.885300</td>\n",
       "      <td>0.886074</td>\n",
       "      <td>0.881774</td>\n",
       "      <td>0.882118</td>\n",
       "    </tr>\n",
       "    <tr>\n",
       "      <th>Mean</th>\n",
       "      <td>0.868259</td>\n",
       "      <td>0.798786</td>\n",
       "      <td>0.859557</td>\n",
       "      <td>0.876547</td>\n",
       "      <td>0.838354</td>\n",
       "    </tr>\n",
       "  </tbody>\n",
       "</table>\n",
       "</div>\n",
       "      <button class=\"colab-df-convert\" onclick=\"convertToInteractive('df-b435095d-fc6c-42cd-8d09-25b417139190')\"\n",
       "              title=\"Convert this dataframe to an interactive table.\"\n",
       "              style=\"display:none;\">\n",
       "        \n",
       "  <svg xmlns=\"http://www.w3.org/2000/svg\" height=\"24px\"viewBox=\"0 0 24 24\"\n",
       "       width=\"24px\">\n",
       "    <path d=\"M0 0h24v24H0V0z\" fill=\"none\"/>\n",
       "    <path d=\"M18.56 5.44l.94 2.06.94-2.06 2.06-.94-2.06-.94-.94-2.06-.94 2.06-2.06.94zm-11 1L8.5 8.5l.94-2.06 2.06-.94-2.06-.94L8.5 2.5l-.94 2.06-2.06.94zm10 10l.94 2.06.94-2.06 2.06-.94-2.06-.94-.94-2.06-.94 2.06-2.06.94z\"/><path d=\"M17.41 7.96l-1.37-1.37c-.4-.4-.92-.59-1.43-.59-.52 0-1.04.2-1.43.59L10.3 9.45l-7.72 7.72c-.78.78-.78 2.05 0 2.83L4 21.41c.39.39.9.59 1.41.59.51 0 1.02-.2 1.41-.59l7.78-7.78 2.81-2.81c.8-.78.8-2.07 0-2.86zM5.41 20L4 18.59l7.72-7.72 1.47 1.35L5.41 20z\"/>\n",
       "  </svg>\n",
       "      </button>\n",
       "      \n",
       "  <style>\n",
       "    .colab-df-container {\n",
       "      display:flex;\n",
       "      flex-wrap:wrap;\n",
       "      gap: 12px;\n",
       "    }\n",
       "\n",
       "    .colab-df-convert {\n",
       "      background-color: #E8F0FE;\n",
       "      border: none;\n",
       "      border-radius: 50%;\n",
       "      cursor: pointer;\n",
       "      display: none;\n",
       "      fill: #1967D2;\n",
       "      height: 32px;\n",
       "      padding: 0 0 0 0;\n",
       "      width: 32px;\n",
       "    }\n",
       "\n",
       "    .colab-df-convert:hover {\n",
       "      background-color: #E2EBFA;\n",
       "      box-shadow: 0px 1px 2px rgba(60, 64, 67, 0.3), 0px 1px 3px 1px rgba(60, 64, 67, 0.15);\n",
       "      fill: #174EA6;\n",
       "    }\n",
       "\n",
       "    [theme=dark] .colab-df-convert {\n",
       "      background-color: #3B4455;\n",
       "      fill: #D2E3FC;\n",
       "    }\n",
       "\n",
       "    [theme=dark] .colab-df-convert:hover {\n",
       "      background-color: #434B5C;\n",
       "      box-shadow: 0px 1px 3px 1px rgba(0, 0, 0, 0.15);\n",
       "      filter: drop-shadow(0px 1px 2px rgba(0, 0, 0, 0.3));\n",
       "      fill: #FFFFFF;\n",
       "    }\n",
       "  </style>\n",
       "\n",
       "      <script>\n",
       "        const buttonEl =\n",
       "          document.querySelector('#df-b435095d-fc6c-42cd-8d09-25b417139190 button.colab-df-convert');\n",
       "        buttonEl.style.display =\n",
       "          google.colab.kernel.accessAllowed ? 'block' : 'none';\n",
       "\n",
       "        async function convertToInteractive(key) {\n",
       "          const element = document.querySelector('#df-b435095d-fc6c-42cd-8d09-25b417139190');\n",
       "          const dataTable =\n",
       "            await google.colab.kernel.invokeFunction('convertToInteractive',\n",
       "                                                     [key], {});\n",
       "          if (!dataTable) return;\n",
       "\n",
       "          const docLinkHtml = 'Like what you see? Visit the ' +\n",
       "            '<a target=\"_blank\" href=https://colab.research.google.com/notebooks/data_table.ipynb>data table notebook</a>'\n",
       "            + ' to learn more about interactive tables.';\n",
       "          element.innerHTML = '';\n",
       "          dataTable['output_type'] = 'display_data';\n",
       "          await google.colab.output.renderOutput(dataTable, element);\n",
       "          const docLink = document.createElement('div');\n",
       "          docLink.innerHTML = docLinkHtml;\n",
       "          element.appendChild(docLink);\n",
       "        }\n",
       "      </script>\n",
       "    </div>\n",
       "  </div>\n",
       "  "
      ],
      "text/plain": [
       "                 SVM  DecisionTree  RandomForest  ExtraTrees  \\\n",
       "Accuracy                                                       \n",
       "Test set 1  0.800612      0.667202      0.797439    0.843962   \n",
       "Test set 2  0.892287      0.843855      0.895157    0.903905   \n",
       "Test set 3  0.911879      0.885300      0.886074    0.881774   \n",
       "Mean        0.868259      0.798786      0.859557    0.876547   \n",
       "\n",
       "            HistogramGradientBoosting  \n",
       "Accuracy                               \n",
       "Test set 1                   0.786498  \n",
       "Test set 2                   0.846445  \n",
       "Test set 3                   0.882118  \n",
       "Mean                         0.838354  "
      ]
     },
     "execution_count": 15,
     "metadata": {},
     "output_type": "execute_result"
    }
   ],
   "source": [
    "# Index data frame\n",
    "index = ['Test set ' + str(i) for i in np.arange(1, len(X_test)+1, 1)]        \n",
    "index.append('Mean')\n",
    "# Data frame\n",
    "df_results = pd.DataFrame(columns=models.keys(), index=index)                 \n",
    "df_results.index.name = 'Accuracy'\n",
    "# Dictionary of predictions by all models\n",
    "y_pred = {}                                                                   \n",
    "\n",
    "# Iterate through the models\n",
    "for col, model in models.items():\n",
    "    y_pred[col] = []\n",
    "    acc = []\n",
    "    # Iterate through the test sequences\n",
    "    for i, y_true in y_test.items():\n",
    "        # Original predictions\n",
    "        y_pred_seg = model.predict(X_test_seg[i])\n",
    "        # Expanded predicitons\n",
    "        y_pred[col].append(expand_predictions(y_true.shape[0], y_pred_seg))\n",
    "        # Accuracy\n",
    "        acc.append(accuracy_score(y_true, y_pred[col][-1]))\n",
    "    # Mean accuracy\n",
    "    acc.append(np.mean(acc))\n",
    "    df_results[col] = acc\n",
    "    \n",
    "df_results"
   ]
  },
  {
   "cell_type": "markdown",
   "metadata": {
    "id": "lkB1kMAcu8Dq"
   },
   "source": [
    "The models have a similar performance, with a mean accuracy between **0.80 and 0.88**. Notice how the first test sequence is the one with the lowest accuracy, indicating us that is the most difficult to predict, independently of the used model.\n",
    "\n",
    "Now the model with the larger mean accuracy is selected."
   ]
  },
  {
   "cell_type": "code",
   "execution_count": null,
   "metadata": {
    "colab": {
     "base_uri": "https://localhost:8080/"
    },
    "executionInfo": {
     "elapsed": 22,
     "status": "ok",
     "timestamp": 1652803875587,
     "user": {
      "displayName": "ION BUENO ULACIA",
      "userId": "18015455674797439275"
     },
     "user_tz": -120
    },
    "id": "DI6X8f8vvMcD",
    "outputId": "123d077b-4968-4189-fd97-4c372ff9655b"
   },
   "outputs": [
    {
     "name": "stdout",
     "output_type": "stream",
     "text": [
      "Best model is ExtraTrees with a mean accuracy of 0.876547\n"
     ]
    }
   ],
   "source": [
    "best_model = list(models.keys())[np.argmax(df_results.iloc[-1, :])]                      # name best model\n",
    "y_best_pred = y_pred[best_model]                                                         # predictions by the best model\n",
    "acc_best = df_results[best_model].values                                                 # accuracies obtained by the best model\n",
    "categories = ['Laying', 'Sitting', 'Climbing Stairs', 'Standing', 'Walking']             # categories\n",
    "print(f'Best model is {best_model} with a mean accuracy of {round(acc_best[-1], 6)}')    "
   ]
  },
  {
   "cell_type": "markdown",
   "metadata": {
    "id": "ckq4caqiqakc"
   },
   "source": [
    "In this case the best model corresponds with the **Extra Trees**, with a mean accuracy of **of 0.876547**. We are going to analyze how it predicts the different classes for the three test sequences ploting the confusion matrices. We have assigned the categories to the labels as specified in the assignment:\n",
    "\n",
    "| Label | Human activity |\n",
    "|---|---|\n",
    "| 1 | Laying |\n",
    "| 2 | Sitting |\n",
    "| 3 | Climbing Stairs |\n",
    "| 4 | Standing |\n",
    "| 5 | Walking |"
   ]
  },
  {
   "cell_type": "code",
   "execution_count": null,
   "metadata": {
    "colab": {
     "base_uri": "https://localhost:8080/",
     "height": 619
    },
    "executionInfo": {
     "elapsed": 969,
     "status": "ok",
     "timestamp": 1652803876541,
     "user": {
      "displayName": "ION BUENO ULACIA",
      "userId": "18015455674797439275"
     },
     "user_tz": -120
    },
    "id": "UYTOl1W3u3Jq",
    "outputId": "bccd06fa-481e-4afb-8cb3-597d16b39290"
   },
   "outputs": [
    {
     "name": "stdout",
     "output_type": "stream",
     "text": [
      "Accuracy = 0.843962 \n",
      "\n"
     ]
    },
    {
     "data": {
      "image/png": "[encoded data removed]",
      "text/plain": [
       "<Figure size 720x720 with 2 Axes>"
      ]
     },
     "metadata": {
      "needs_background": "light"
     },
     "output_type": "display_data"
    }
   ],
   "source": [
    "#####################\n",
    "# Test sequence 1\n",
    "#####################\n",
    "\n",
    "test_set = 1\n",
    "\n",
    "cm = confusion_matrix(y_test[test_set-1], y_best_pred[test_set-1])   # confusion matrix\n",
    "disp = ConfusionMatrixDisplay(cm, display_labels=categories)         # display confusion matrix\n",
    "fig, ax = plt.subplots(figsize=(10,10))                              # figure\n",
    "disp.plot(ax=ax, cmap='Blues')\n",
    "print(f'Accuracy = {round(acc_best[test_set-1], 6)}', '\\n')"
   ]
  },
  {
   "cell_type": "markdown",
   "metadata": {
    "id": "sVSqphKT27wU"
   },
   "source": [
    "As mentioned before, in the first test set we have obtained the worst result. Excluding the *Laying* class, there are errors in all the categories. Mention how most of the misclassifications are between two classes instead of distributed between all the categories. These errors make sense because they are between similar activities, for example *Climbing Stairs* and *Walking*, which both imply movement. Also between *Standing* and *Sitting*, where there is not movement."
   ]
  },
  {
   "cell_type": "code",
   "execution_count": null,
   "metadata": {
    "colab": {
     "base_uri": "https://localhost:8080/",
     "height": 616
    },
    "executionInfo": {
     "elapsed": 22,
     "status": "ok",
     "timestamp": 1652803876542,
     "user": {
      "displayName": "ION BUENO ULACIA",
      "userId": "18015455674797439275"
     },
     "user_tz": -120
    },
    "id": "MyR8WQgw0Rp8",
    "outputId": "2b98f80c-bc8e-4975-da32-ae8bc5828646"
   },
   "outputs": [
    {
     "name": "stdout",
     "output_type": "stream",
     "text": [
      "Accuracy = 0.903905 \n",
      "\n"
     ]
    },
    {
     "data": {
      "image/png": "[encoded data removed]",
      "text/plain": [
       "<Figure size 720x720 with 2 Axes>"
      ]
     },
     "metadata": {
      "needs_background": "light"
     },
     "output_type": "display_data"
    }
   ],
   "source": [
    "#####################\n",
    "# Test sequence 2\n",
    "#####################\n",
    "\n",
    "test_set = 2\n",
    "\n",
    "cm = confusion_matrix(y_test[test_set-1], y_best_pred[test_set-1])   # confusion matrix\n",
    "disp = ConfusionMatrixDisplay(cm, display_labels=categories)         # display confusion matrix\n",
    "fig, ax = plt.subplots(figsize=(10,10))                              # figure\n",
    "disp.plot(ax=ax, cmap='Blues')\n",
    "print(f'Accuracy = {round(acc_best[test_set-1], 6)}', '\\n')"
   ]
  },
  {
   "cell_type": "markdown",
   "metadata": {
    "id": "Fb-MVFrR6EC5"
   },
   "source": [
    "In the second test sequence we obtained the most accurate prediction. Only in the class *Walking* there is a considerable amount of errors. The same missclassification pattern is followed, but with a lower ratio."
   ]
  },
  {
   "cell_type": "code",
   "execution_count": null,
   "metadata": {
    "colab": {
     "base_uri": "https://localhost:8080/",
     "height": 616
    },
    "executionInfo": {
     "elapsed": 849,
     "status": "ok",
     "timestamp": 1652803877380,
     "user": {
      "displayName": "ION BUENO ULACIA",
      "userId": "18015455674797439275"
     },
     "user_tz": -120
    },
    "id": "Of7DHB_V0TBu",
    "outputId": "6c300da1-8baf-4efe-da9b-986648e2f44c"
   },
   "outputs": [
    {
     "name": "stdout",
     "output_type": "stream",
     "text": [
      "Accuracy = 0.881774 \n",
      "\n"
     ]
    },
    {
     "data": {
      "image/png": "[encoded data removed]",
      "text/plain": [
       "<Figure size 720x720 with 2 Axes>"
      ]
     },
     "metadata": {
      "needs_background": "light"
     },
     "output_type": "display_data"
    }
   ],
   "source": [
    "#####################\n",
    "# Test sequence 3\n",
    "#####################\n",
    "\n",
    "test_set = 3\n",
    "\n",
    "cm = confusion_matrix(y_test[test_set-1], y_best_pred[test_set-1])   # confusion matrix\n",
    "disp = ConfusionMatrixDisplay(cm, display_labels=categories)         # display confusion matrix\n",
    "fig, ax = plt.subplots(figsize=(10,10))                              # figure\n",
    "disp.plot(ax=ax, cmap='Blues')\n",
    "print(f'Accuracy = {round(acc_best[test_set-1], 6)}', '\\n')"
   ]
  },
  {
   "cell_type": "markdown",
   "metadata": {
    "id": "dTmEtXOM8A_s"
   },
   "source": [
    "The performance in the third sequence is a bit worse than the second one. The missclassifications between similar activities are also present."
   ]
  },
  {
   "cell_type": "markdown",
   "metadata": {
    "id": "yii1Dfun8gfM"
   },
   "source": [
    "## 6 - Conclusion\n",
    "\n",
    "In spite of a few missclassifications, the implemented model predicts well all the human activities using only the information stored by the sensors. In order to improve the model, feature engineering could be applied, reducing the dimensions with Principal Component Analysis  (PCA), Local Discriminant Analysis (LDA) or Independent Component Analysis (ICA). We can also use other statistics as variables, for example, features from the frequency domain as the spectral Energy, or from the time-frequency domain as wavelet coefficients.\n",
    "\n",
    "An ensemble of models which includes time series processing and a classifier may work very well with this sequential data. For example, a Recurrent Neural Network (RNN) which models how the data evolves with a Support Vector Machine (SVM) to provide a classification.\n",
    "\n",
    "Mention the performance would be better if the evaluation is performed only on the real predictions obtained with the sliding window, which at the end is more practical, as commented before."
   ]
  }
 ],
 "metadata": {
  "colab": {
   "collapsed_sections": [],
   "name": "Lab_Exercise4_100364530-100384121.ipynb",
   "provenance": [],
   "toc_visible": true
  },
  "kernelspec": {
   "display_name": "Python 3 (ipykernel)",
   "language": "python",
   "name": "python3"
  },
  "language_info": {
   "codemirror_mode": {
    "name": "ipython",
    "version": 3
   },
   "file_extension": ".py",
   "mimetype": "text/x-python",
   "name": "python",
   "nbconvert_exporter": "python",
   "pygments_lexer": "ipython3",
   "version": "3.9.5"
  }
 },
 "nbformat": 4,
 "nbformat_minor": 4
}
